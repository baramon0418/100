{
  "nbformat": 4,
  "nbformat_minor": 0,
  "metadata": {
    "colab": {
      "private_outputs": true,
      "provenance": []
    },
    "kernelspec": {
      "name": "python3",
      "display_name": "Python 3"
    },
    "language_info": {
      "name": "python"
    },
    "accelerator": "GPU",
    "gpuClass": "standard"
  },
  "cells": [
    {
      "cell_type": "markdown",
      "source": [
        "1번"
      ],
      "metadata": {
        "id": "0Zy1fwpTxIzS"
      }
    },
    {
      "cell_type": "code",
      "execution_count": null,
      "metadata": {
        "id": "OBgvQra6lRhs"
      },
      "outputs": [],
      "source": [
        "import cv2\n",
        "import matplotlib.pyplot as plt\n",
        "\n",
        "import numpy as np\n",
        "from PIL import Image\n",
        "from math import sqrt,exp\n",
        "\n",
        "import copy\n",
        "img = cv2.imread(\"과제1.png\")\n",
        "img = cv2.cvtColor(img, cv2.COLOR_BGR2RGB) #bgr을 rgb로 바꾸는 코드\n",
        "img_gray = cv2.cvtColor(img, cv2.COLOR_RGB2GRAY)\n",
        "plt.imshow(img_gray, cmap = 'gray')"
      ]
    },
    {
      "cell_type": "code",
      "source": [
        "mask = np.zeros([512,512])\n",
        "\n",
        "def gaussian2d(x,y,mean_x, mean_y, sigma_x,sigma_y):\n",
        "    return (1 / (sigma_x*sigma_y*2*np.pi)) * np.exp(-(x-mean_x)**2 / (2*sigma_x**2) - (y-mean_y)**2 / (2*sigma_y**2))\n",
        "\n",
        "sigma = 2\n",
        "\n",
        "for r in range(512) :\n",
        "    for c in range(512) :\n",
        "        mask[r][c] += gaussian2d(r,c,228,228,sigma,sigma) #112가 잡음의 위치가 되어야 한다\n",
        "        mask[r][c] += gaussian2d(r,c,282,282,sigma,sigma)\n",
        "        mask[r][c] = 1 - mask[r][c] #노치 필터 특정한 노이즈를 없앰\n",
        "\n",
        "plt.imshow(mask, cmap = 'gray')\n",
        "plt.show()"
      ],
      "metadata": {
        "id": "ypKjunbPlYQE"
      },
      "execution_count": null,
      "outputs": []
    },
    {
      "cell_type": "code",
      "source": [
        "mask = np.zeros([512,512])\n",
        "\n",
        "def gaussian2d(x,y,mean_x, mean_y, sigma_x,sigma_y):\n",
        "    return np.exp(-(x-mean_x)**2 / (2*sigma_x**2) - (y-mean_y)**2 / (2*sigma_y**2))\n",
        "\n",
        "sigma = 7.5\n",
        "\n",
        "for r in range(512) :\n",
        "    for c in range(512) :    \n",
        "        mask[r][c] += gaussian2d(r,c,228,228,sigma,sigma) #112가 잡음의 위치가 되어야 한다\n",
        "        mask[r][c] += gaussian2d(r,c,282,282,sigma,sigma)\n",
        "        mask[r][c] = 1 - mask[r][c] #노치 필터 특정한 노이즈를 없앰\n",
        "\n",
        "plt.imshow(mask, cmap = 'gray')\n",
        "plt.show()\n",
        "\n",
        "f = np.fft.fft2(img_gray)\n",
        "\n",
        "f = np.fft.fftshift(f)\n",
        "\n",
        "magnitude_spectrum = 20*np.log(np.abs(f))\n",
        "phase_spectrum = np.angle(f)\n",
        "\n",
        "\n",
        "result = np.zeros([512,512],dtype=\"complex\") \n",
        "for r in range(512):\n",
        "    for c in range(512):\n",
        "        result[r,c] = f[r,c] * mask[r,c] \n",
        "\n",
        "\n",
        "magnitude_spectrum_result = 20*np.log(np.abs(result))\n",
        "\n",
        "f = np.fft.ifftshift(result)\n",
        "\n",
        "rec_img = np.fft.ifft2(f).real\n",
        "\n",
        "plt.imshow(magnitude_spectrum, cmap = 'gray')\n",
        "plt.savefig('magnitude.png')\n",
        "plt.show()\n",
        "plt.imshow(magnitude_spectrum_result, cmap = 'gray')\n",
        "plt.show()\n",
        "plt.imshow(phase_spectrum, cmap = 'gray')\n",
        "plt.show()\n",
        "plt.imshow(img_gray, cmap = 'gray')\n",
        "plt.show()\n",
        "plt.imshow(rec_img, cmap = 'gray')\n",
        "plt.show()"
      ],
      "metadata": {
        "id": "_l2Yfm3-lapF"
      },
      "execution_count": null,
      "outputs": []
    },
    {
      "cell_type": "code",
      "source": [
        "gray_level = np.zeros(512)\n",
        "for i in range(512):\n",
        "    gray_level[i] = i\n",
        "data = magnitude_spectrum[112,:]\n",
        "\n",
        "print(data)\n",
        "plt.plot(gray_level,data)"
      ],
      "metadata": {
        "id": "Cz_UraxplbNh"
      },
      "execution_count": null,
      "outputs": []
    },
    {
      "cell_type": "markdown",
      "source": [
        "2번"
      ],
      "metadata": {
        "id": "2o7u-Uu7y_Az"
      }
    },
    {
      "cell_type": "markdown",
      "source": [
        "저용량"
      ],
      "metadata": {
        "id": "Ow0R_Xj7EQOo"
      }
    },
    {
      "cell_type": "code",
      "source": [
        "import cv2\n",
        "import matplotlib.pyplot as plt\n",
        "\n",
        "import numpy as np\n",
        "from PIL import Image\n",
        "from math import sqrt,exp\n",
        "\n",
        "import copy\n",
        "img = cv2.imread(\"과제2_저용량.png\") #원본이미지\n",
        "img = cv2.cvtColor(img, cv2.COLOR_BGR2RGB) #bgr을 rgb로 바꾸는 코드\n",
        "img_gray = cv2.cvtColor(img, cv2.COLOR_RGB2GRAY)\n",
        "plt.imshow(img_gray, cmap = 'gray')"
      ],
      "metadata": {
        "id": "rcC82uNnzARI"
      },
      "execution_count": null,
      "outputs": []
    },
    {
      "cell_type": "code",
      "source": [
        "#픽셀값의 확률분포 계산\n",
        "\n",
        "def histo(img_gray):\n",
        "    histogram = np.zeros(256)\n",
        "    h_input,w_input = img_gray.shape\n",
        "    #w_input = 512\n",
        "    #h_input = 512\n",
        "\n",
        "    for r in range(h_input):\n",
        "        for c in range(w_input):\n",
        "            histogram[img_gray[r,c]] += 1\n",
        "\n",
        "    histogram = histogram/(w_input*h_input)\n",
        "\n",
        "    # print(histogram)\n",
        "    return histogram\n",
        "\n",
        "\n",
        "def img_pro(img_gray):\n",
        "    img_proba = np.zeros(256)\n",
        "    hist = histo(img_gray)\n",
        "    img_proba[0] = hist[0]\n",
        "    for k in range(1,256):\n",
        "        img_proba[k] = img_proba[k-1] + hist[k]\n",
        "\n",
        "    # print(img_proba)\n",
        "    return img_proba"
      ],
      "metadata": {
        "id": "e_iuPKK3zSoL"
      },
      "execution_count": null,
      "outputs": []
    },
    {
      "cell_type": "code",
      "source": [
        "prob = img_pro(img_gray)\n",
        "plt.plot(prob)"
      ],
      "metadata": {
        "id": "HftKiEpA7h7E"
      },
      "execution_count": null,
      "outputs": []
    },
    {
      "cell_type": "code",
      "source": [
        "def compress(img_gray):\n",
        "    n = 4\n",
        "    \n",
        "    flatten_img = img_gray.flatten()\n",
        "    proba = img_pro(img_gray)\n",
        "    comp = np.zeros(int(len(flatten_img)/n), dtype=np.float32)\n",
        "\n",
        "    for i in range(len(comp)):\n",
        "        high =1\n",
        "        low=0\n",
        "        data = flatten_img[i*n:(i+1)*n]\n",
        "        for encoding_i in range(n):\n",
        "            data_range = high - low\n",
        "            high = low + data_range * proba[data[encoding_i]]\n",
        "            if(data[encoding_i] == 0):\n",
        "                low = low\n",
        "            else:\n",
        "                low = low + data_range * proba[data[encoding_i]-1]\n",
        "        comp[i] = low+(high-low)/2\n",
        "    return comp"
      ],
      "metadata": {
        "id": "2djJdPrK24Lr"
      },
      "execution_count": null,
      "outputs": []
    },
    {
      "cell_type": "code",
      "source": [
        "#def asasas(data, codebook) 함수로 만들어라\n",
        "\n",
        "def decompress(data_enc, codebook, img_gray):\n",
        "    h_input,w_input = img_gray.shape\n",
        "    proba = img_pro(img_gray)\n",
        "    data_dec = np.zeros(codebook)\n",
        "    recov = np.zeros(len(data_enc)*codebook, dtype=np.float32)\n",
        "\n",
        "    for i in range(len(data_enc)):\n",
        "        high =1\n",
        "        low=0      \n",
        "        for decoding_i in range(codebook):\n",
        "            data_range = high - low\n",
        "            c=(data_enc[i] - low) / data_range\n",
        "            for k in range(256):\n",
        "                if c < proba[k]:\n",
        "                    break\n",
        "\n",
        "            data_dec[decoding_i] = k\n",
        "\n",
        "            high = low + data_range * proba[k]\n",
        "            if(k == 0):\n",
        "                low = len\n",
        "            else:\n",
        "                low = low + data_range * proba[k-1]\n",
        "        recov[i*codebook:(i+1)*codebook] = data_dec\n",
        "    recov = recov.reshape(-1,w_input)\n",
        "    return recov\n"
      ],
      "metadata": {
        "id": "Z5UKEeex25_2"
      },
      "execution_count": null,
      "outputs": []
    },
    {
      "cell_type": "code",
      "source": [
        "comp = compress(img_gray)\n",
        "print(comp.shape)"
      ],
      "metadata": {
        "id": "88x9vBEtGsIF"
      },
      "execution_count": null,
      "outputs": []
    },
    {
      "cell_type": "code",
      "source": [
        "np.save('압축이미지1', comp)\n",
        "np.save('원본이미지1', img_gray.astype('float32'))"
      ],
      "metadata": {
        "id": "V8OOzowyIzsC"
      },
      "execution_count": null,
      "outputs": []
    },
    {
      "cell_type": "code",
      "source": [
        "rec = decompress(comp, 4, img_gray)\n",
        "plt.imshow(rec, cmap='gray')"
      ],
      "metadata": {
        "id": "cHMafrY5JsUR"
      },
      "execution_count": null,
      "outputs": []
    },
    {
      "cell_type": "markdown",
      "source": [
        "고용량"
      ],
      "metadata": {
        "id": "PXQZojC9ENyM"
      }
    },
    {
      "cell_type": "code",
      "source": [
        "import cv2\n",
        "import matplotlib.pyplot as plt\n",
        "\n",
        "import numpy as np\n",
        "from PIL import Image\n",
        "from math import sqrt,exp\n",
        "\n",
        "import copy\n",
        "img = cv2.imread(\"과제2.png\") #원본이미지\n",
        "img = cv2.cvtColor(img, cv2.COLOR_BGR2RGB) #bgr을 rgb로 바꾸는 코드\n",
        "img_gray = cv2.cvtColor(img, cv2.COLOR_RGB2GRAY)\n",
        "plt.imshow(img_gray, cmap = 'gray')"
      ],
      "metadata": {
        "id": "X6F36gdqDgsQ"
      },
      "execution_count": null,
      "outputs": []
    },
    {
      "cell_type": "code",
      "source": [
        "#픽셀값의 확률분포 계산\n",
        "\n",
        "def histo(img_gray):\n",
        "    histogram = np.zeros(256)\n",
        "    h_input,w_input = img_gray.shape\n",
        "    #w_input = 512\n",
        "    #h_input = 512\n",
        "\n",
        "    for r in range(h_input):\n",
        "        for c in range(w_input):\n",
        "            histogram[img_gray[r,c]] += 1\n",
        "\n",
        "    histogram = histogram/(w_input*h_input)\n",
        "\n",
        "    # print(histogram)\n",
        "    return histogram\n",
        "\n",
        "\n",
        "def img_pro(img_gray):\n",
        "    img_proba = np.zeros(256)\n",
        "    hist = histo(img_gray)\n",
        "    img_proba[0] = hist[0]\n",
        "    for k in range(1,256):\n",
        "        img_proba[k] = img_proba[k-1] + hist[k]\n",
        "\n",
        "    # print(img_proba)\n",
        "    return img_proba"
      ],
      "metadata": {
        "id": "roS417d-DpO2"
      },
      "execution_count": null,
      "outputs": []
    },
    {
      "cell_type": "code",
      "source": [
        "prob = img_pro(img_gray)\n",
        "plt.plot(prob)"
      ],
      "metadata": {
        "id": "DqO1O-_9DqAk"
      },
      "execution_count": null,
      "outputs": []
    },
    {
      "cell_type": "code",
      "source": [
        "def compress(img_gray):\n",
        "    n = 4\n",
        "    \n",
        "    flatten_img = img_gray.flatten()\n",
        "    proba = img_pro(img_gray)\n",
        "    comp = np.zeros(int(len(flatten_img)/n), dtype=np.float32)\n",
        "\n",
        "    for i in range(len(comp)):\n",
        "        high =1\n",
        "        low=0\n",
        "        data = flatten_img[i*n:(i+1)*n]\n",
        "        for encoding_i in range(n):\n",
        "            data_range = high - low\n",
        "            high = low + data_range * proba[data[encoding_i]]\n",
        "            if(data[encoding_i] == 0):\n",
        "                low = low\n",
        "            else:\n",
        "                low = low + data_range * proba[data[encoding_i]-1]\n",
        "        comp[i] = low+(high-low)/2\n",
        "    return comp"
      ],
      "metadata": {
        "id": "RidYmFhXDtqS"
      },
      "execution_count": null,
      "outputs": []
    },
    {
      "cell_type": "code",
      "source": [
        "#def asasas(data, codebook) 함수로 만들어라\n",
        "\n",
        "def decompress(data_enc, codebook, img_gray):\n",
        "    h_input,w_input = img_gray.shape\n",
        "    proba = img_pro(img_gray)\n",
        "    data_dec = np.zeros(codebook)\n",
        "    recov = np.zeros(len(data_enc)*codebook, dtype=np.float32)\n",
        "\n",
        "    for i in range(len(data_enc)):\n",
        "        high =1\n",
        "        low=0      \n",
        "        for decoding_i in range(codebook):\n",
        "            data_range = high - low\n",
        "            c=(data_enc[i] - low) / data_range\n",
        "            for k in range(256):\n",
        "                if c < proba[k]:\n",
        "                    break\n",
        "\n",
        "            data_dec[decoding_i] = k\n",
        "\n",
        "            high = low + data_range * proba[k]\n",
        "            if(k == 0):\n",
        "                low = len\n",
        "            else:\n",
        "                low = low + data_range * proba[k-1]\n",
        "        recov[i*codebook:(i+1)*codebook] = data_dec\n",
        "    recov = recov.reshape(-1,w_input)\n",
        "    return recov\n"
      ],
      "metadata": {
        "id": "8y36YFDtD0T0"
      },
      "execution_count": null,
      "outputs": []
    },
    {
      "cell_type": "code",
      "source": [
        "comp = compress(img_gray)\n",
        "print(comp.shape)"
      ],
      "metadata": {
        "id": "habmCHYTD-52"
      },
      "execution_count": null,
      "outputs": []
    },
    {
      "cell_type": "code",
      "source": [
        "np.save('압축이미지2', comp)\n",
        "np.save('원본이미지2', img_gray.astype('float32'))"
      ],
      "metadata": {
        "id": "xuRhfOejEBel"
      },
      "execution_count": null,
      "outputs": []
    },
    {
      "cell_type": "code",
      "source": [
        "rec = decompress(comp, 4, img_gray)\n",
        "plt.imshow(rec, cmap='gray')"
      ],
      "metadata": {
        "id": "hnb2HASeEKB4"
      },
      "execution_count": null,
      "outputs": []
    },
    {
      "cell_type": "code",
      "source": [
        "# data = img_gray[100,:]\n",
        "# #print(data)\n",
        "\n",
        "# data_cha = np.zeros(w_input,dtype=int)\n",
        "# data_cha[0] = data[0]\n",
        "# for i in range(1,w_input):\n",
        "#     data_cha[i] = int(data[i]) - int(data[i-1])\n",
        "\n",
        "# print(data_cha)"
      ],
      "metadata": {
        "id": "N-Q0Kifm27lc"
      },
      "execution_count": null,
      "outputs": []
    }
  ]
}