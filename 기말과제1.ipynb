{
  "nbformat": 4,
  "nbformat_minor": 0,
  "metadata": {
    "colab": {
      "private_outputs": true,
      "provenance": []
    },
    "kernelspec": {
      "name": "python3",
      "display_name": "Python 3"
    },
    "language_info": {
      "name": "python"
    }
  },
  "cells": [
    {
      "cell_type": "code",
      "execution_count": null,
      "metadata": {
        "id": "MfcO6hbqHbDl"
      },
      "outputs": [],
      "source": [
        "import cv2\n",
        "import matplotlib.pyplot as plt\n",
        "\n",
        "import numpy as np\n",
        "from PIL import Image\n",
        "from math import sqrt,exp\n",
        "\n",
        "import copy\n",
        "img = cv2.imread(\"과제1.png\")\n",
        "img = cv2.cvtColor(img, cv2.COLOR_BGR2RGB) #bgr을 rgb로 바꾸는 코드\n",
        "img_gray = cv2.cvtColor(img, cv2.COLOR_RGB2GRAY)\n",
        "plt.imshow(img_gray, cmap = 'gray')"
      ]
    },
    {
      "cell_type": "code",
      "source": [
        "mask = np.zeros([512,512])\n",
        "\n",
        "def gaussian2d(x,y,mean_x, mean_y, sigma_x,sigma_y):\n",
        "    return (1 / (sigma_x*sigma_y*2*np.pi)) * np.exp(-(x-mean_x)**2 / (2*sigma_x**2) - (y-mean_y)**2 / (2*sigma_y**2))\n",
        "\n",
        "sigma = 2\n",
        "\n",
        "for r in range(512) :\n",
        "    for c in range(512) :\n",
        "        mask[r][c] += gaussian2d(r,c,228,228,sigma,sigma) #112가 잡음의 위치가 되어야 한다\n",
        "        mask[r][c] += gaussian2d(r,c,282,282,sigma,sigma)\n",
        "        mask[r][c] = 1 - mask[r][c] #노치 필터 특정한 노이즈를 없앰\n",
        "\n",
        "plt.imshow(mask, cmap = 'gray')\n",
        "plt.show()"
      ],
      "metadata": {
        "id": "vhSE6n_qHfaH"
      },
      "execution_count": null,
      "outputs": []
    },
    {
      "cell_type": "code",
      "source": [
        "mask = np.zeros([512,512])\n",
        "\n",
        "def gaussian2d(x,y,mean_x, mean_y, sigma_x,sigma_y):\n",
        "    return np.exp(-(x-mean_x)**2 / (2*sigma_x**2) - (y-mean_y)**2 / (2*sigma_y**2))\n",
        "\n",
        "sigma = 7.5\n",
        "\n",
        "for r in range(512) :\n",
        "    for c in range(512) :    \n",
        "        mask[r][c] += gaussian2d(r,c,228,228,sigma,sigma) #112가 잡음의 위치가 되어야 한다\n",
        "        mask[r][c] += gaussian2d(r,c,282,282,sigma,sigma)\n",
        "        mask[r][c] = 1 - mask[r][c] #노치 필터 특정한 노이즈를 없앰\n",
        "\n",
        "plt.imshow(mask, cmap = 'gray')\n",
        "plt.show()\n",
        "\n",
        "f = np.fft.fft2(img_gray)\n",
        "\n",
        "f = np.fft.fftshift(f)\n",
        "\n",
        "magnitude_spectrum = 20*np.log(np.abs(f))\n",
        "phase_spectrum = np.angle(f)\n",
        "\n",
        "\n",
        "result = np.zeros([512,512],dtype=\"complex\") \n",
        "for r in range(512):\n",
        "    for c in range(512):\n",
        "        result[r,c] = f[r,c] * mask[r,c] \n",
        "\n",
        "\n",
        "magnitude_spectrum_result = 20*np.log(np.abs(result))\n",
        "\n",
        "f = np.fft.ifftshift(result)\n",
        "\n",
        "rec_img = np.fft.ifft2(f).real\n",
        "\n",
        "plt.imshow(magnitude_spectrum, cmap = 'gray')\n",
        "plt.savefig('magnitude.png')\n",
        "plt.show()\n",
        "plt.imshow(magnitude_spectrum_result, cmap = 'gray')\n",
        "plt.show()\n",
        "plt.imshow(phase_spectrum, cmap = 'gray')\n",
        "plt.show()\n",
        "plt.imshow(img_gray, cmap = 'gray')\n",
        "plt.show()\n",
        "plt.imshow(rec_img, cmap = 'gray')\n",
        "plt.savefig('rec_img.png')\n",
        "plt.show()"
      ],
      "metadata": {
        "id": "aL-E5GZhHjHE"
      },
      "execution_count": null,
      "outputs": []
    },
    {
      "cell_type": "code",
      "source": [
        "gray_level = np.zeros(512)\n",
        "for i in range(512):\n",
        "    gray_level[i] = i\n",
        "data = magnitude_spectrum[112,:]\n",
        "\n",
        "print(data)\n",
        "plt.plot(gray_level,data)"
      ],
      "metadata": {
        "id": "511CYvBiHlhY"
      },
      "execution_count": null,
      "outputs": []
    }
  ]
}