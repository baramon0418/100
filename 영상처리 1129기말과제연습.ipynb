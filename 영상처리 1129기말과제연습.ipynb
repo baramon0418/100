{
  "nbformat": 4,
  "nbformat_minor": 0,
  "metadata": {
    "colab": {
      "private_outputs": true,
      "provenance": []
    },
    "kernelspec": {
      "name": "python3",
      "display_name": "Python 3"
    },
    "language_info": {
      "name": "python"
    }
  },
  "cells": [
    {
      "cell_type": "markdown",
      "source": [
        "1번"
      ],
      "metadata": {
        "id": "Dxk3UxjIl_9P"
      }
    },
    {
      "cell_type": "code",
      "execution_count": null,
      "metadata": {
        "id": "NWA7eOySmikw"
      },
      "outputs": [],
      "source": [
        "import cv2\n",
        "import matplotlib.pyplot as plt\n",
        "\n",
        "import numpy as np\n",
        "from PIL import Image\n",
        "from math import sqrt,exp\n",
        "\n",
        "import copy\n",
        "img = cv2.imread(\"lena_color_512.png\") #원본이미지\n",
        "img = cv2.imread(\"sample1.png\")\n",
        "img = cv2.cvtColor(img, cv2.COLOR_BGR2RGB) #bgr을 rgb로 바꾸는 코드\n",
        "img_gray = cv2.cvtColor(img, cv2.COLOR_RGB2GRAY)\n",
        "plt.imshow(img_gray, cmap = 'gray')"
      ]
    },
    {
      "cell_type": "code",
      "source": [
        "mask = np.zeros([225,225])\n",
        "\n",
        "def gaussian2d(x,y,mean_x, mean_y, sigma_x,sigma_y):\n",
        "    return (1 / (sigma_x*sigma_y*2*np.pi)) * np.exp(-(x-mean_x)**2 / (2*sigma_x**2) - (y-mean_y)**2 / (2*sigma_y**2))\n",
        "\n",
        "sigma = 2\n",
        "\n",
        "for r in range(225) :\n",
        "    for c in range(225) :\n",
        "        for k in range(14):\n",
        "            mean_x = k * 16 + 8        \n",
        "            mask[r][c] += gaussian2d(r,c,112,mean_x,sigma,sigma) #112가 잡음의 위치가 되어야 한다\n",
        "        mask[r][c] = 1 - mask[r][c] #노치 필터 특정한 노이즈를 없앰\n",
        "\n",
        "plt.imshow(mask, cmap = 'gray')\n",
        "plt.show()"
      ],
      "metadata": {
        "id": "BYdRXziOsrBR"
      },
      "execution_count": null,
      "outputs": []
    },
    {
      "cell_type": "code",
      "source": [
        "mask = np.zeros([225,225])\n",
        "\n",
        "def gaussian2d(x,y,mean_x, mean_y, sigma_x,sigma_y):\n",
        "    return (1 / (sigma_x*sigma_y*2*np.pi)) * np.exp(-(x-mean_x)**2 / (2*sigma_x**2) - (y-mean_y)**2 / (2*sigma_y**2))\n",
        "\n",
        "sigma = 2\n",
        "\n",
        "for r in range(225) :\n",
        "    for c in range(225) :\n",
        "        for k in range(14):\n",
        "            mean_x = k * 16 + 8        \n",
        "            mask[r][c] += (sigma*sigma*2*np.pi)*gaussian2d(r,c,112,mean_x,sigma,sigma) #112가 잡음의 위치가 되어야 한다\n",
        "        mask[r][c] = 1 - mask[r][c] #노치 필터 특정한 노이즈를 없앰\n",
        "\n",
        "plt.imshow(mask, cmap = 'gray')\n",
        "plt.show()\n",
        "\n",
        "f = np.fft.fft2(img_gray)\n",
        "\n",
        "f = np.fft.fftshift(f)\n",
        "\n",
        "magnitude_spectrum = 20*np.log(np.abs(f))\n",
        "phase_spectrum = np.angle(f)\n",
        "\n",
        "\n",
        "result = np.zeros([225,225],dtype=\"complex\") \n",
        "for r in range(225):\n",
        "    for c in range(225):\n",
        "        result[r,c] = f[r,c] * mask[r,c] \n",
        "\n",
        "\n",
        "magnitude_spectrum_result = 20*np.log(np.abs(result))\n",
        "\n",
        "f = np.fft.ifftshift(result)\n",
        "\n",
        "rec_img = np.fft.ifft2(f).real\n",
        "\n",
        "plt.imshow(magnitude_spectrum, cmap = 'gray')\n",
        "plt.savefig('magnitude.png')\n",
        "plt.show()\n",
        "plt.imshow(magnitude_spectrum_result, cmap = 'gray')\n",
        "plt.show()\n",
        "plt.imshow(phase_spectrum, cmap = 'gray')\n",
        "plt.show()\n",
        "plt.imshow(img_gray, cmap = 'gray')\n",
        "plt.show()\n",
        "plt.imshow(rec_img, cmap = 'gray')\n",
        "plt.show()"
      ],
      "metadata": {
        "id": "Ny1BdEt0qNI_"
      },
      "execution_count": null,
      "outputs": []
    },
    {
      "cell_type": "code",
      "source": [
        "#코드 깔끔하게 한 거 위에꺼랑 똑같은 거임\n",
        "mask = np.zeros([225,225])\n",
        "\n",
        "def gaussian2d(x,y,mean_x, mean_y, sigma_x,sigma_y):\n",
        "    return np.exp(-(x-mean_x)**2 / (2*sigma_x**2) - (y-mean_y)**2 / (2*sigma_y**2))\n",
        "\n",
        "sigma = 1.5\n",
        "\n",
        "for r in range(225) :\n",
        "    for c in range(225) :\n",
        "        for k in range(14):\n",
        "            mean_x = k * 16 + 8        \n",
        "            mask[r][c] += gaussian2d(r,c,112,mean_x,sigma,sigma) #112가 잡음의 위치가 되어야 한다\n",
        "        mask[r][c] = 1 - mask[r][c] #노치 필터 특정한 노이즈를 없앰\n",
        "\n",
        "plt.imshow(mask, cmap = 'gray')\n",
        "plt.show()\n",
        "\n",
        "f = np.fft.fft2(img_gray)\n",
        "\n",
        "f = np.fft.fftshift(f)\n",
        "\n",
        "magnitude_spectrum = 20*np.log(np.abs(f))\n",
        "phase_spectrum = np.angle(f)\n",
        "\n",
        "\n",
        "result = np.zeros([225,225],dtype=\"complex\") \n",
        "for r in range(225):\n",
        "    for c in range(225):\n",
        "        result[r,c] = f[r,c] * mask[r,c] \n",
        "\n",
        "\n",
        "magnitude_spectrum_result = 20*np.log(np.abs(result))\n",
        "\n",
        "f = np.fft.ifftshift(result)\n",
        "\n",
        "rec_img = np.fft.ifft2(f).real\n",
        "\n",
        "plt.imshow(magnitude_spectrum, cmap = 'gray')\n",
        "plt.savefig('magnitude.png')\n",
        "plt.show()\n",
        "plt.imshow(magnitude_spectrum_result, cmap = 'gray')\n",
        "plt.show()\n",
        "plt.imshow(phase_spectrum, cmap = 'gray')\n",
        "plt.show()\n",
        "plt.imshow(img_gray, cmap = 'gray')\n",
        "plt.show()\n",
        "plt.imshow(rec_img, cmap = 'gray')\n",
        "plt.show()"
      ],
      "metadata": {
        "id": "JTxadvoe6XsP"
      },
      "execution_count": null,
      "outputs": []
    },
    {
      "cell_type": "code",
      "source": [
        "#노이즈 어디있는지 그래프로 알아내는 것임\n",
        "gray_level = np.zeros(225)\n",
        "for i in range(225):\n",
        "    gray_level[i] = i\n",
        "data = magnitude_spectrum[112,:]\n",
        "\n",
        "print(data)\n",
        "plt.plot(gray_level,data)"
      ],
      "metadata": {
        "id": "CPI4d-HoyPj7"
      },
      "execution_count": null,
      "outputs": []
    },
    {
      "cell_type": "markdown",
      "source": [
        "샘플 2"
      ],
      "metadata": {
        "id": "KjIn3bWv7C3l"
      }
    },
    {
      "cell_type": "code",
      "source": [
        "import cv2\n",
        "import matplotlib.pyplot as plt\n",
        "\n",
        "import numpy as np\n",
        "from PIL import Image\n",
        "from math import sqrt,exp\n",
        "\n",
        "import copy\n",
        "img = cv2.imread(\"sample2.png\")\n",
        "img = cv2.cvtColor(img, cv2.COLOR_BGR2RGB) #bgr을 rgb로 바꾸는 코드\n",
        "img_gray = cv2.cvtColor(img, cv2.COLOR_RGB2GRAY)\n",
        "plt.imshow(img_gray, cmap = 'gray')\n",
        "\n",
        "#코드 깔끔하게 한 거 위에꺼랑 똑같은 거임\n",
        "mask = np.zeros([225,225])\n",
        "\n",
        "def gaussian2d(x,y,mean_x, mean_y, sigma_x,sigma_y):\n",
        "    return np.exp(-(x-mean_x)**2 / (2*sigma_x**2) - (y-mean_y)**2 / (2*sigma_y**2))\n",
        "\n",
        "sigma = 1.5\n",
        "\n",
        "# for r in range(225) :\n",
        "    # for c in range(225) :\n",
        "        # for k in range(14):\n",
        "            # mean_x = k * 16 + 8        \n",
        "            # mask[r][c] += gaussian2d(r,c,112,mean_x,sigma,sigma) #112가 잡음의 위치가 되어야 한다\n",
        "        # mask[r][c] = 1 - mask[r][c] #노치 필터 특정한 노이즈를 없앰\n",
        "\n",
        "# plt.imshow(mask, cmap = 'gray')\n",
        "# plt.show()\n",
        "\n",
        "f = np.fft.fft2(img_gray)\n",
        "\n",
        "f = np.fft.fftshift(f)\n",
        "\n",
        "magnitude_spectrum = 20*np.log(np.abs(f))\n",
        "phase_spectrum = np.angle(f)\n",
        "\n",
        "\n",
        "# result = np.zeros([225,225],dtype=\"complex\") \n",
        "# for r in range(225):\n",
        "    # for c in range(225):\n",
        "        # result[r,c] = f[r,c] * mask[r,c] \n",
        "\n",
        "\n",
        "# magnitude_spectrum_result = 20*np.log(np.abs(result))\n",
        "\n",
        "# f = np.fft.ifftshift(result)\n",
        "\n",
        "# rec_img = np.fft.ifft2(f).real\n",
        "\n",
        "plt.imshow(magnitude_spectrum, cmap = 'gray')\n",
        "plt.savefig('magnitude.png')\n",
        "plt.show()\n",
        "plt.imshow(magnitude_spectrum_result, cmap = 'gray')\n",
        "plt.show()\n",
        "plt.imshow(phase_spectrum, cmap = 'gray')\n",
        "plt.show()\n",
        "plt.imshow(img_gray, cmap = 'gray')\n",
        "plt.show()\n",
        "plt.imshow(rec_img, cmap = 'gray')\n",
        "plt.show()"
      ],
      "metadata": {
        "id": "qTjNWGli7Ejc"
      },
      "execution_count": null,
      "outputs": []
    },
    {
      "cell_type": "code",
      "source": [
        "gray_level = np.zeros(418)\n",
        "for i in range(418):\n",
        "    gray_level[i] = i\n",
        "data = magnitude_spectrum[112,:]\n",
        "\n",
        "print(data)\n",
        "plt.plot(gray_level,data)"
      ],
      "metadata": {
        "id": "N7X4jKpv7kb5"
      },
      "execution_count": null,
      "outputs": []
    },
    {
      "cell_type": "markdown",
      "source": [
        "2번 | 1206 | 산술부호화"
      ],
      "metadata": {
        "id": "Wcegs6eEmDhE"
      }
    },
    {
      "cell_type": "code",
      "source": [
        "import cv2\n",
        "import matplotlib.pyplot as plt\n",
        "\n",
        "import numpy as np\n",
        "from PIL import Image\n",
        "from math import sqrt,exp\n",
        "\n",
        "import copy\n",
        "img = cv2.imread(\"lena_color_512.png\") #원본이미지\n",
        "img = cv2.cvtColor(img, cv2.COLOR_BGR2RGB) #bgr을 rgb로 바꾸는 코드\n",
        "img_gray = cv2.cvtColor(img, cv2.COLOR_RGB2GRAY)\n",
        "plt.imshow(img_gray, cmap = 'gray')"
      ],
      "metadata": {
        "id": "i_T_b3-ypXaK"
      },
      "execution_count": null,
      "outputs": []
    },
    {
      "cell_type": "code",
      "source": [
        "#픽셀값의 확률분포 계산\n",
        "histogram = np.zeros(256)\n",
        "w_input,h_input = img_gray.shape\n",
        "#w_input = 512\n",
        "#h_input = 512\n",
        "\n",
        "for r in range(h_input):\n",
        "    for c in range(w_input):\n",
        "        histogram[img_gray[r,c]] += 1\n",
        "\n",
        "histogram = histogram/(w_input*h_input)\n",
        "\n",
        "print(histogram)\n",
        "\n",
        "img_proba = np.zeros(256)\n",
        "img_proba[0] = histogram[0]\n",
        "for k in range(1,256):\n",
        "    img_proba[k] = img_proba[k-1] + histogram[k]\n",
        "\n",
        "print(img_proba)"
      ],
      "metadata": {
        "id": "d-bxkLyjrec1"
      },
      "execution_count": null,
      "outputs": []
    },
    {
      "cell_type": "code",
      "source": [
        "n = 4\n",
        "\n",
        "data = img_gray[0,0:n]\n",
        "print(data)\n",
        "\n",
        "high =1\n",
        "low=0\n",
        "\n",
        "for encoding_i in [0,1,2,3]:\n",
        "    data_range = high - low\n",
        "    high = low + data_range * img_proba[data[encoding_i]]\n",
        "    if(data[encoding_i] == 0):\n",
        "        low = len\n",
        "    else:\n",
        "        low = low + data_range * img_proba[data[encoding_i]-1]\n",
        "\n",
        "    data_enc =low+(high-low)/2\n",
        "print(data_enc)"
      ],
      "metadata": {
        "id": "tWBVGmyEsTjW"
      },
      "execution_count": null,
      "outputs": []
    },
    {
      "cell_type": "code",
      "source": [
        "n = 4\n",
        "\n",
        "data = img_gray[0,0:n]\n",
        "print(data)\n",
        "\n",
        "def com(data,codebook):\n",
        "    high =1\n",
        "    low=0\n",
        "\n",
        "    for encoding_i in [0,1,2,3]:\n",
        "        data_range = high - low\n",
        "        high = low + data_range * codebook[data[encoding_i]]\n",
        "        if(data[encoding_i] == 0):\n",
        "            low = len\n",
        "        else:\n",
        "            low = low + data_range * codebook[data[encoding_i]-1]\n",
        "\n",
        "        return data_enc =low+(high-low)/2\n",
        "    \n",
        "print(data_enc)"
      ],
      "metadata": {
        "id": "m2FXDjaf_OFi"
      },
      "execution_count": null,
      "outputs": []
    },
    {
      "cell_type": "code",
      "source": [
        "#def asasas(data, codebook) 함수로 만들어라\n",
        "data_dec = np.zeros(n)\n",
        "\n",
        "high =1\n",
        "low=0\n",
        "\n",
        "\n",
        "\n",
        "\n",
        "decoding_i = 0\n",
        "\n",
        "for decoding_i in range(n):\n",
        "    data_range = high - low\n",
        "    c=(data_enc - low) / data_range\n",
        "    for k in range(256):\n",
        "        if c < img_proba[k]:\n",
        "            break\n",
        "\n",
        "    data_dec[decoding_i] = k\n",
        "\n",
        "    high = low + data_range * img_proba[k]\n",
        "    if(k == 0):\n",
        "        low = len\n",
        "    else:\n",
        "        low = low + data_range * img_proba[k-1]\n",
        "\n",
        "print(data_dec)"
      ],
      "metadata": {
        "id": "qNergguouSSb"
      },
      "execution_count": null,
      "outputs": []
    },
    {
      "cell_type": "code",
      "source": [
        "#def asasas(data, codebook) 함수로 만들어라\n",
        "\n",
        "def decompress(data_enc, codebook):\n",
        "    data_dec = np.zeros(n)\n",
        "    high =1\n",
        "    low=0\n",
        "\n",
        "    decoding_i = 0\n",
        "\n",
        "    for decoding_i in range(n):\n",
        "        data_range = high - low\n",
        "        c=(data_enc - low) / data_range\n",
        "        for k in range(256):\n",
        "            if c < img_proba[k]:\n",
        "                break\n",
        "\n",
        "        data_dec[decoding_i] = k\n",
        "\n",
        "        high = low + data_range * img_proba[k]\n",
        "        if(k == 0):\n",
        "            low = len\n",
        "        else:\n",
        "            low = low + data_range * img_proba[k-1]\n",
        "\n",
        "    return data_dec\n",
        "\n",
        "data_dec = decompress(data_enc,img_proba)\n",
        "print(data_dec)"
      ],
      "metadata": {
        "id": "1vBdMY-P6Tx7"
      },
      "execution_count": null,
      "outputs": []
    },
    {
      "cell_type": "markdown",
      "source": [
        "차분부호화"
      ],
      "metadata": {
        "id": "lXif-seC5LyS"
      }
    },
    {
      "cell_type": "code",
      "source": [
        "data = img_gray[100,:]\n",
        "#print(data)\n",
        "\n",
        "data_cha = np.zeros(w_input,dtype=int)\n",
        "data_cha[0] = data[0]\n",
        "for i in range(1,w_input):\n",
        "    data_cha[i] = int(data[i]) - int(data[i-1])\n",
        "\n",
        "print(data_cha)"
      ],
      "metadata": {
        "id": "TTEXr2tAxl-k"
      },
      "execution_count": null,
      "outputs": []
    },
    {
      "cell_type": "markdown",
      "source": [
        "퀀타이제이션 추가하면 더 압축할 수 있다"
      ],
      "metadata": {
        "id": "z0aUe6z39giv"
      }
    },
    {
      "cell_type": "code",
      "source": [],
      "metadata": {
        "id": "6SFASqfZ5XnY"
      },
      "execution_count": null,
      "outputs": []
    }
  ]
}